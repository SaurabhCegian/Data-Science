{
  "nbformat": 4,
  "nbformat_minor": 0,
  "metadata": {
    "colab": {
      "provenance": [],
      "authorship_tag": "ABX9TyPN1A3OktfNwsM8q+U51rvF",
      "include_colab_link": true
    },
    "kernelspec": {
      "name": "python3",
      "display_name": "Python 3"
    },
    "language_info": {
      "name": "python"
    }
  },
  "cells": [
    {
      "cell_type": "markdown",
      "metadata": {
        "id": "view-in-github",
        "colab_type": "text"
      },
      "source": [
        "<a href=\"https://colab.research.google.com/github/SaurabhCegian/Data-Science/blob/main/PCA.ipynb\" target=\"_parent\"><img src=\"https://colab.research.google.com/assets/colab-badge.svg\" alt=\"Open In Colab\"/></a>"
      ]
    },
    {
      "cell_type": "code",
      "execution_count": 5,
      "metadata": {
        "colab": {
          "base_uri": "https://localhost:8080/"
        },
        "id": "3sngl_xaRTEu",
        "outputId": "21a94b57-477f-49a3-c54f-821f472e078a"
      },
      "outputs": [
        {
          "output_type": "stream",
          "name": "stdout",
          "text": [
            "------------Original Data-------------\n",
            "   sepal length  sepal width  petal length  petal width        class\n",
            "0           5.1          3.5           1.4          0.2  Iris-setosa\n",
            "1           4.9          3.0           1.4          0.2  Iris-setosa\n",
            "2           4.7          3.2           1.3          0.2  Iris-setosa\n",
            "3           4.6          3.1           1.5          0.2  Iris-setosa\n",
            "4           5.0          3.6           1.4          0.2  Iris-setosa\n",
            "\n",
            "------------standardized Data-------------\n",
            "   sepal length  sepal width  petal length  petal width\n",
            "0     -0.900681     1.032057     -1.341272    -1.312977\n",
            "1     -1.143017    -0.124958     -1.341272    -1.312977\n",
            "2     -1.385353     0.337848     -1.398138    -1.312977\n",
            "3     -1.506521     0.106445     -1.284407    -1.312977\n",
            "4     -1.021849     1.263460     -1.341272    -1.312977\n"
          ]
        }
      ],
      "source": [
        "import pandas as pd\n",
        "from sklearn.preprocessing import StandardScaler\n",
        "\n",
        "# Load the dataset\n",
        "df = pd.read_csv('https://archive.ics.uci.edu/ml/machine-learning-databases/iris/iris.data',\n",
        "                 header=None,\n",
        "                 names=['sepal length', 'sepal width', 'petal length', 'petal width', 'class'])\n",
        "\n",
        "# Features to be standardized\n",
        "features = ['sepal length', 'sepal width', 'petal length', 'petal width']\n",
        "\n",
        "# Separating out the features\n",
        "x = df.loc[:, features].values\n",
        "\n",
        "# Standardizing the features\n",
        "x = StandardScaler().fit_transform(x)\n",
        "\n",
        "# Display Original Data\n",
        "print(\"------------Original Data-------------\")\n",
        "print(df.head())\n",
        "# Display Standardized Data\n",
        "print(\"\\n------------Standardized Data-------------\")\n",
        "print(pd.DataFrame(x, columns=features).head())\n"
      ]
    },
    {
      "cell_type": "code",
      "source": [
        "import numpy as np\n",
        "\n",
        "# Compute the covariance matrix\n",
        "cov_matrix = np.cov(x.T)\n",
        "\n",
        "# Display the covariance matrix\n",
        "print(cov_matrix)\n"
      ],
      "metadata": {
        "colab": {
          "base_uri": "https://localhost:8080/"
        },
        "id": "VmkM9RV7RT3e",
        "outputId": "0b08405c-ed25-46ae-f39a-747686ee9d48"
      },
      "execution_count": 6,
      "outputs": [
        {
          "output_type": "stream",
          "name": "stdout",
          "text": [
            "[[ 1.00671141 -0.11010327  0.87760486  0.82344326]\n",
            " [-0.11010327  1.00671141 -0.42333835 -0.358937  ]\n",
            " [ 0.87760486 -0.42333835  1.00671141  0.96921855]\n",
            " [ 0.82344326 -0.358937    0.96921855  1.00671141]]\n"
          ]
        }
      ]
    },
    {
      "cell_type": "code",
      "source": [
        "# Calculate the eigenvalues and eigenvectors\n",
        "eigenvalues, eigenvectors = np.linalg.eig(cov_matrix)\n",
        "\n",
        "# Display eigenvalues and eigenvectors\n",
        "print(\"Eigenvalues:\\n\", eigenvalues)\n",
        "print(\"Eigenvectors:\\n\", eigenvectors)\n"
      ],
      "metadata": {
        "colab": {
          "base_uri": "https://localhost:8080/"
        },
        "id": "X-Zyxy6cWeNp",
        "outputId": "56f7428c-5b95-4696-c6bb-220a711e20b1"
      },
      "execution_count": 7,
      "outputs": [
        {
          "output_type": "stream",
          "name": "stdout",
          "text": [
            "Eigenvalues:\n",
            " [2.93035378 0.92740362 0.14834223 0.02074601]\n",
            "Eigenvectors:\n",
            " [[ 0.52237162 -0.37231836 -0.72101681  0.26199559]\n",
            " [-0.26335492 -0.92555649  0.24203288 -0.12413481]\n",
            " [ 0.58125401 -0.02109478  0.14089226 -0.80115427]\n",
            " [ 0.56561105 -0.06541577  0.6338014   0.52354627]]\n"
          ]
        }
      ]
    },
    {
      "cell_type": "code",
      "source": [
        "# Sort the eigenvalues and eigenvectors\n",
        "sorted_index = np.argsort(eigenvalues)[::-1]\n",
        "sorted_eigenvalues = eigenvalues[sorted_index]\n",
        "sorted_eigenvectors = eigenvectors[:, sorted_index]\n",
        "\n",
        "# Display sorted eigenvalues and eigenvectors\n",
        "print(\"Sorted Eigenvalues:\\n\", sorted_eigenvalues)\n",
        "print(\"Sorted Eigenvectors:\\n\", sorted_eigenvectors)"
      ],
      "metadata": {
        "colab": {
          "base_uri": "https://localhost:8080/"
        },
        "id": "SaGrWI4cX2QW",
        "outputId": "6711d91c-bac6-47b0-f0d3-87c78b7a08b6"
      },
      "execution_count": 9,
      "outputs": [
        {
          "output_type": "stream",
          "name": "stdout",
          "text": [
            "Sorted Eigenvalues:\n",
            " [2.93035378 0.92740362 0.14834223 0.02074601]\n",
            "Sorted Eigenvectors:\n",
            " [[ 0.52237162 -0.37231836 -0.72101681  0.26199559]\n",
            " [-0.26335492 -0.92555649  0.24203288 -0.12413481]\n",
            " [ 0.58125401 -0.02109478  0.14089226 -0.80115427]\n",
            " [ 0.56561105 -0.06541577  0.6338014   0.52354627]]\n"
          ]
        }
      ]
    },
    {
      "cell_type": "code",
      "source": [
        "# Project the data onto the principal components\n",
        "pca_data = np.dot(x, sorted_eigenvectors)\n",
        "\n",
        "# Convert to DataFrame for better visualization\n",
        "pca_df = pd.DataFrame(data=pca_data, columns=['PC1', 'PC2', 'PC3', 'PC4'])\n",
        "\n",
        "# Display the transformed data\n",
        "print(pca_df.head())"
      ],
      "metadata": {
        "colab": {
          "base_uri": "https://localhost:8080/"
        },
        "id": "FmOjlGXFY9zR",
        "outputId": "c35cc19b-8e11-4427-dc3c-5cf1bf38533f"
      },
      "execution_count": 10,
      "outputs": [
        {
          "output_type": "stream",
          "name": "stdout",
          "text": [
            "        PC1       PC2       PC3       PC4\n",
            "0 -2.264542 -0.505704 -0.121943  0.023073\n",
            "1 -2.086426  0.655405 -0.227251  0.103208\n",
            "2 -2.367950  0.318477  0.051480  0.027825\n",
            "3 -2.304197  0.575368  0.098860 -0.066311\n",
            "4 -2.388777 -0.674767  0.021428 -0.037397\n"
          ]
        }
      ]
    },
    {
      "cell_type": "code",
      "source": [
        "import matplotlib.pyplot as plt\n",
        "\n",
        "# Select the first two principal components for visualization\n",
        "pca = pca_df.iloc[:, :2]\n",
        "\n",
        "# Add the class labels for coloring the scatter plot\n",
        "pca['class'] = df['class']\n",
        "\n",
        "# Plot the data\n",
        "fig, ax = plt.subplots()\n",
        "colors = ['r', 'g', 'b']\n",
        "for target, color in zip(df['class'].unique(), colors):\n",
        "    indices_to_keep = pca['class'] == target\n",
        "    ax.scatter(pca.loc[indices_to_keep, 'PC1'],\n",
        "               pca.loc[indices_to_keep, 'PC2'],\n",
        "               c=color,\n",
        "               s=50)\n",
        "ax.legend(df['class'].unique())\n",
        "ax.grid()\n",
        "plt.xlabel('Principal Component 1')\n",
        "plt.ylabel('Principal Component 2')\n",
        "plt.title('2 component PCA')\n",
        "plt.show()\n"
      ],
      "metadata": {
        "colab": {
          "base_uri": "https://localhost:8080/",
          "height": 576
        },
        "id": "baAnNBBbZt3y",
        "outputId": "4aaa5689-0900-4fd1-e7ab-991a41a85ad8"
      },
      "execution_count": 11,
      "outputs": [
        {
          "output_type": "stream",
          "name": "stderr",
          "text": [
            "<ipython-input-11-59265d3b087d>:7: SettingWithCopyWarning: \n",
            "A value is trying to be set on a copy of a slice from a DataFrame.\n",
            "Try using .loc[row_indexer,col_indexer] = value instead\n",
            "\n",
            "See the caveats in the documentation: https://pandas.pydata.org/pandas-docs/stable/user_guide/indexing.html#returning-a-view-versus-a-copy\n",
            "  pca['class'] = df['class']\n"
          ]
        },
        {
          "output_type": "display_data",
          "data": {
            "text/plain": [
              "<Figure size 640x480 with 1 Axes>"
            ],
            "image/png": "[encoded data removed]"
          },
          "metadata": {}
        }
      ]
    },
    {
      "cell_type": "code",
      "source": [],
      "metadata": {
        "id": "-Hj0YVxhaCXY"
      },
      "execution_count": null,
      "outputs": []
    }
  ]
}